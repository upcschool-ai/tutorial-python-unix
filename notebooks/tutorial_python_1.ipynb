{
  "nbformat": 4,
  "nbformat_minor": 0,
  "metadata": {
    "colab": {
      "provenance": [],
      "collapsed_sections": []
    },
    "kernelspec": {
      "name": "python3",
      "display_name": "Python 3"
    }
  },
  "cells": [
    {
      "cell_type": "markdown",
      "metadata": {
        "id": "MKo6kNC6G5Jh"
      },
      "source": [
        "# **Introduction to Python - Part 1**"
      ]
    },
    {
      "cell_type": "markdown",
      "metadata": {
        "id": "3Tb-b2_kJ-tX"
      },
      "source": [
        "**Remember to make a copy of this Notebook in your Google Drive**"
      ]
    },
    {
      "cell_type": "markdown",
      "metadata": {
        "id": "8DGn_DIHHtm1"
      },
      "source": [
        "First of all make sure that you're connected to an environment. In the top right corner you'll see a 'Connect' button, once you click on it you'll be assigned some resources of disk and ram running in Google Cloud servers."
      ]
    },
    {
      "cell_type": "markdown",
      "metadata": {
        "id": "t7VvaZD2IsTU"
      },
      "source": [
        "A Colab Notebook is organized in cells. Each gray block is a cell and can be executed in different ways. The most common one is using **Shift+Enter** which executes the cell and goes to the next cell. But you can also click on the play button or in the Runtime menu click on one of the multiple options to run cells."
      ]
    },
    {
      "cell_type": "code",
      "metadata": {
        "id": "uqP429UKbxF_"
      },
      "source": [
        "import os"
      ],
      "execution_count": null,
      "outputs": []
    },
    {
      "cell_type": "code",
      "metadata": {
        "id": "FuziVDKBNAPG"
      },
      "source": [
        "!python --version"
      ],
      "execution_count": null,
      "outputs": []
    },
    {
      "cell_type": "markdown",
      "metadata": {
        "id": "-3TYTV1_FHAM"
      },
      "source": [
        "# Type of variables"
      ]
    },
    {
      "cell_type": "code",
      "metadata": {
        "id": "iATIkzljFKud"
      },
      "source": [
        "type(\"This is a String\")"
      ],
      "execution_count": null,
      "outputs": []
    },
    {
      "cell_type": "code",
      "metadata": {
        "id": "R1ZiNcgBFRNl"
      },
      "source": [
        "type(0)"
      ],
      "execution_count": null,
      "outputs": []
    },
    {
      "cell_type": "code",
      "metadata": {
        "id": "au5udwlwHIrG"
      },
      "source": [
        "type(0.45)"
      ],
      "execution_count": null,
      "outputs": []
    },
    {
      "cell_type": "code",
      "metadata": {
        "id": "rqTEaksdFWDZ"
      },
      "source": [
        "type(True)"
      ],
      "execution_count": null,
      "outputs": []
    },
    {
      "cell_type": "code",
      "metadata": {
        "id": "2cg4kZTuFZRc"
      },
      "source": [
        "type(list())"
      ],
      "execution_count": null,
      "outputs": []
    },
    {
      "cell_type": "code",
      "metadata": {
        "id": "pymR-s1NHyyh"
      },
      "source": [
        "type(list()) == type([])"
      ],
      "execution_count": null,
      "outputs": []
    },
    {
      "cell_type": "code",
      "metadata": {
        "id": "168FF51lFXp3"
      },
      "source": [
        "type(dict())"
      ],
      "execution_count": null,
      "outputs": []
    },
    {
      "cell_type": "code",
      "metadata": {
        "id": "fOrX2tOgHuUj"
      },
      "source": [
        "type(dict()) == type({})"
      ],
      "execution_count": null,
      "outputs": []
    },
    {
      "cell_type": "code",
      "metadata": {
        "id": "JtGIYbu5Fd8B"
      },
      "source": [
        "type(set())"
      ],
      "execution_count": null,
      "outputs": []
    },
    {
      "cell_type": "code",
      "metadata": {
        "id": "7JK7IbMb73AR"
      },
      "source": [
        "type((0,0,0))"
      ],
      "execution_count": null,
      "outputs": []
    },
    {
      "cell_type": "markdown",
      "metadata": {
        "id": "PCswGy_RHd6r"
      },
      "source": [
        "## **Strings**"
      ]
    },
    {
      "cell_type": "code",
      "metadata": {
        "id": "UNHMjFQNMdKm"
      },
      "source": [
        "a = \"This is a String\""
      ],
      "execution_count": null,
      "outputs": []
    },
    {
      "cell_type": "code",
      "metadata": {
        "id": "3bAnaEj3MljQ"
      },
      "source": [
        "len(a)"
      ],
      "execution_count": null,
      "outputs": []
    },
    {
      "cell_type": "code",
      "metadata": {
        "id": "YwrMSd3eMlK3"
      },
      "source": [
        "a[0]"
      ],
      "execution_count": null,
      "outputs": []
    },
    {
      "cell_type": "code",
      "metadata": {
        "id": "SzVthSjkMt75"
      },
      "source": [
        "a[:10]"
      ],
      "execution_count": null,
      "outputs": []
    },
    {
      "cell_type": "code",
      "metadata": {
        "id": "32T9Ye5TM21b"
      },
      "source": [
        "a[::2]"
      ],
      "execution_count": null,
      "outputs": []
    },
    {
      "cell_type": "code",
      "metadata": {
        "id": "_WamxuZgghgW"
      },
      "source": [
        "a[2:]"
      ],
      "execution_count": null,
      "outputs": []
    },
    {
      "cell_type": "markdown",
      "metadata": {
        "id": "DGTdypspiGWP"
      },
      "source": [
        "[start:end:step]"
      ]
    },
    {
      "cell_type": "code",
      "metadata": {
        "id": "UUlxBP1cM9vQ"
      },
      "source": [
        "anything = 10\n",
        "a = f\"We can insert {anything} to a string.\"\n",
        "print(a)"
      ],
      "execution_count": null,
      "outputs": []
    },
    {
      "cell_type": "code",
      "metadata": {
        "id": "jYLWw5KVNkaI"
      },
      "source": [
        "\"To concatenate strings \" + \"we can just sum them up.\""
      ],
      "execution_count": null,
      "outputs": []
    },
    {
      "cell_type": "markdown",
      "metadata": {
        "id": "VpRvB9QGHITT"
      },
      "source": [
        "## **Numbers**"
      ]
    },
    {
      "cell_type": "code",
      "metadata": {
        "id": "yYMXetv0Rh-F"
      },
      "source": [
        "int(0.45)"
      ],
      "execution_count": null,
      "outputs": []
    },
    {
      "cell_type": "code",
      "metadata": {
        "id": "S8V0U3QARlzU"
      },
      "source": [
        "int(0.78)"
      ],
      "execution_count": null,
      "outputs": []
    },
    {
      "cell_type": "code",
      "metadata": {
        "id": "BPDvRW5SRpgl"
      },
      "source": [
        "float(2)"
      ],
      "execution_count": null,
      "outputs": []
    },
    {
      "cell_type": "code",
      "metadata": {
        "id": "4RxJ44XHRtv0"
      },
      "source": [
        "import math\n",
        "round(math.pi, 3)"
      ],
      "execution_count": null,
      "outputs": []
    },
    {
      "cell_type": "code",
      "metadata": {
        "id": "ZHd88uALu2Y6"
      },
      "source": [
        "math.ceil(0.78)"
      ],
      "execution_count": null,
      "outputs": []
    },
    {
      "cell_type": "markdown",
      "metadata": {
        "id": "uGgEsKTMOFxG"
      },
      "source": [
        "### **Operators**"
      ]
    },
    {
      "cell_type": "code",
      "metadata": {
        "id": "tB2ZRtvdPy53"
      },
      "source": [
        "3+4"
      ],
      "execution_count": null,
      "outputs": []
    },
    {
      "cell_type": "code",
      "metadata": {
        "id": "kWny6Ep5RL_T"
      },
      "source": [
        "3-4"
      ],
      "execution_count": null,
      "outputs": []
    },
    {
      "cell_type": "code",
      "metadata": {
        "id": "P2FbRvjYP0JG"
      },
      "source": [
        "3*4"
      ],
      "execution_count": null,
      "outputs": []
    },
    {
      "cell_type": "code",
      "metadata": {
        "id": "wHUFB9DZQ0kk"
      },
      "source": [
        "3**4"
      ],
      "execution_count": null,
      "outputs": []
    },
    {
      "cell_type": "code",
      "metadata": {
        "id": "LyZwWBy1Q2Da"
      },
      "source": [
        "3/4"
      ],
      "execution_count": null,
      "outputs": []
    },
    {
      "cell_type": "code",
      "metadata": {
        "id": "TQwD57TpQ3yd"
      },
      "source": [
        "3//4"
      ],
      "execution_count": null,
      "outputs": []
    },
    {
      "cell_type": "code",
      "metadata": {
        "id": "PMvhHFIPvCe0"
      },
      "source": [
        "17//4"
      ],
      "execution_count": null,
      "outputs": []
    },
    {
      "cell_type": "code",
      "metadata": {
        "id": "CF7wchevQ5Os"
      },
      "source": [
        "3%4"
      ],
      "execution_count": null,
      "outputs": []
    },
    {
      "cell_type": "code",
      "metadata": {
        "id": "Es9Fw7FcvGTD"
      },
      "source": [
        "17%4"
      ],
      "execution_count": null,
      "outputs": []
    },
    {
      "cell_type": "code",
      "metadata": {
        "id": "pIo3SjDFSYy6"
      },
      "source": [
        "3<4"
      ],
      "execution_count": null,
      "outputs": []
    },
    {
      "cell_type": "code",
      "metadata": {
        "id": "8n_rXJ92SbTT"
      },
      "source": [
        "3>=4"
      ],
      "execution_count": null,
      "outputs": []
    },
    {
      "cell_type": "markdown",
      "metadata": {
        "id": "nDNKf7fGPH7r"
      },
      "source": [
        "## **Booleans**"
      ]
    },
    {
      "cell_type": "code",
      "metadata": {
        "id": "61BBj2U6SWVe"
      },
      "source": [
        "1 == True"
      ],
      "execution_count": null,
      "outputs": []
    },
    {
      "cell_type": "code",
      "metadata": {
        "id": "6SPbaWWWSxl9"
      },
      "source": [
        "0 == False"
      ],
      "execution_count": null,
      "outputs": []
    },
    {
      "cell_type": "markdown",
      "metadata": {
        "id": "4kNvLfL1PKmW"
      },
      "source": [
        "## **List**"
      ]
    },
    {
      "cell_type": "code",
      "metadata": {
        "id": "xgv5goE2Ucqn"
      },
      "source": [
        "a = []"
      ],
      "execution_count": null,
      "outputs": []
    },
    {
      "cell_type": "code",
      "metadata": {
        "id": "3ehYMADpUnwD"
      },
      "source": [
        "a.append(\"string\")\n",
        "a.append(0)\n",
        "a.append(False)\n",
        "a.append([0,1,2])\n",
        "a.append({})\n",
        "a"
      ],
      "execution_count": null,
      "outputs": []
    },
    {
      "cell_type": "code",
      "metadata": {
        "id": "rm77wRlzU7l_"
      },
      "source": [
        "a.extend([10,20,30])\n",
        "a"
      ],
      "execution_count": null,
      "outputs": []
    },
    {
      "cell_type": "code",
      "metadata": {
        "id": "3hNOKiNvVZpJ"
      },
      "source": [
        "a.insert(0, 123)\n",
        "a"
      ],
      "execution_count": null,
      "outputs": []
    },
    {
      "cell_type": "code",
      "metadata": {
        "id": "wTpr0oqZVH9A"
      },
      "source": [
        "a.index(0)"
      ],
      "execution_count": null,
      "outputs": []
    },
    {
      "cell_type": "code",
      "metadata": {
        "id": "A95f2F_OVN-r"
      },
      "source": [
        "a.remove(\"string\")\n",
        "a"
      ],
      "execution_count": null,
      "outputs": []
    },
    {
      "cell_type": "code",
      "metadata": {
        "id": "NP9JDCOiVrJM"
      },
      "source": [
        "a.pop(3)"
      ],
      "execution_count": null,
      "outputs": []
    },
    {
      "cell_type": "code",
      "metadata": {
        "id": "R7DL594Cwa08"
      },
      "source": [
        "a"
      ],
      "execution_count": null,
      "outputs": []
    },
    {
      "cell_type": "code",
      "metadata": {
        "id": "9nIyjmulWGDK"
      },
      "source": [
        "a.reverse()\n",
        "a"
      ],
      "execution_count": null,
      "outputs": []
    },
    {
      "cell_type": "code",
      "metadata": {
        "id": "rwCtf2FFWMI3"
      },
      "source": [
        "a.clear()\n",
        "a"
      ],
      "execution_count": null,
      "outputs": []
    },
    {
      "cell_type": "markdown",
      "metadata": {
        "id": "PVWiwSIxPIH6"
      },
      "source": [
        "## **Dictionary**"
      ]
    },
    {
      "cell_type": "code",
      "metadata": {
        "id": "oviFJbtmS7TR"
      },
      "source": [
        "a_dict = {\n",
        "        \"key_0\": \"value\",\n",
        "        \"key_1\": 0,\n",
        "        \"key_2\": [],\n",
        "        \"key_3\": {\n",
        "            \"nested_dict_key_0\": [0,1,2,-3],\n",
        "            \"nested_dict_key_1\": {}\n",
        "        }     \n",
        "    }"
      ],
      "execution_count": null,
      "outputs": []
    },
    {
      "cell_type": "code",
      "metadata": {
        "id": "uDS_kfS3T1pt"
      },
      "source": [
        "a_dict"
      ],
      "execution_count": null,
      "outputs": []
    },
    {
      "cell_type": "code",
      "metadata": {
        "id": "flrCcNrLUL9d"
      },
      "source": [
        "a_dict.keys()"
      ],
      "execution_count": null,
      "outputs": []
    },
    {
      "cell_type": "code",
      "metadata": {
        "id": "-__DQ9j_Wi0q"
      },
      "source": [
        "a_dict.values()"
      ],
      "execution_count": null,
      "outputs": []
    },
    {
      "cell_type": "code",
      "metadata": {
        "id": "Xcbkv0WnWnN-"
      },
      "source": [
        "a_dict.items()"
      ],
      "execution_count": null,
      "outputs": []
    },
    {
      "cell_type": "code",
      "metadata": {
        "id": "jbWwQaRbW79W"
      },
      "source": [
        "a_dict.get(\"key_2\")"
      ],
      "execution_count": null,
      "outputs": []
    },
    {
      "cell_type": "code",
      "metadata": {
        "id": "BClkvOpVgWOZ"
      },
      "source": [
        "a_dict[\"key_2\"]"
      ],
      "execution_count": null,
      "outputs": []
    },
    {
      "cell_type": "code",
      "metadata": {
        "id": "e2D9q8xKW_5Q"
      },
      "source": [
        "b = {\"key_2\": True}\n",
        "a_dict.update(b)\n",
        "a_dict"
      ],
      "execution_count": null,
      "outputs": []
    },
    {
      "cell_type": "markdown",
      "metadata": {
        "id": "YO9R5WbePKuI"
      },
      "source": [
        "## **Set**"
      ]
    },
    {
      "cell_type": "code",
      "metadata": {
        "id": "AvjuZNhxXnxq"
      },
      "source": [
        "a = {\"apple\", \"banana\", \"watermelon\"}\n",
        "a"
      ],
      "execution_count": null,
      "outputs": []
    },
    {
      "cell_type": "code",
      "metadata": {
        "id": "onF23gG3XxWo"
      },
      "source": [
        "a.add(\"pear\")\n",
        "a"
      ],
      "execution_count": null,
      "outputs": []
    },
    {
      "cell_type": "code",
      "metadata": {
        "id": "FrOF03fdYerx"
      },
      "source": [
        "a.add(\"pear\")\n",
        "a"
      ],
      "execution_count": null,
      "outputs": []
    },
    {
      "cell_type": "code",
      "metadata": {
        "id": "pxG2-QBrYqnu"
      },
      "source": [
        "fruit_list = ['apple', 'banana', 'pear', 'watermelon', 'pear', 'watermelon', 'pear', 'watermelon','apple', 'banana', 'pear','apple', 'banana', 'pear','banana', 'banana']"
      ],
      "execution_count": null,
      "outputs": []
    },
    {
      "cell_type": "markdown",
      "metadata": {
        "id": "nK5bokfyZRTV"
      },
      "source": [
        "How many different items are in the fruit list?"
      ]
    },
    {
      "cell_type": "code",
      "metadata": {
        "id": "u150MfSIZL89"
      },
      "source": [
        "len(set(fruit_list))"
      ],
      "execution_count": null,
      "outputs": []
    },
    {
      "cell_type": "code",
      "metadata": {
        "id": "HQdzQtusaOD0"
      },
      "source": [
        "a = a.union({\"banana\", \"blueberry\", \"peach\"})\n",
        "a"
      ],
      "execution_count": null,
      "outputs": []
    },
    {
      "cell_type": "code",
      "metadata": {
        "id": "-1j9IajqZP7B"
      },
      "source": [
        "a.remove(\"banana\")\n",
        "a"
      ],
      "execution_count": null,
      "outputs": []
    },
    {
      "cell_type": "markdown",
      "metadata": {
        "id": "Em8DR9WwaEZs"
      },
      "source": [
        "# **For loops**"
      ]
    },
    {
      "cell_type": "code",
      "metadata": {
        "id": "2tgW2anNaYEc"
      },
      "source": [
        "for i in range(10):\n",
        "    print(\"*\"*i,i)"
      ],
      "execution_count": null,
      "outputs": []
    },
    {
      "cell_type": "code",
      "metadata": {
        "id": "EWyBk6AhafBD"
      },
      "source": [
        "for i in range(3):\n",
        "    for j in range(3):\n",
        "        print(i,j)"
      ],
      "execution_count": null,
      "outputs": []
    },
    {
      "cell_type": "code",
      "metadata": {
        "id": "ELBI40JEbEkQ"
      },
      "source": [
        "for i, j in zip(range(5), range(5)):\n",
        "    print(i,j)"
      ],
      "execution_count": null,
      "outputs": []
    },
    {
      "cell_type": "code",
      "metadata": {
        "id": "uABMbZnqbfT-"
      },
      "source": [
        "for item in fruit_list:\n",
        "    print(item)"
      ],
      "execution_count": null,
      "outputs": []
    },
    {
      "cell_type": "code",
      "metadata": {
        "id": "3GBevS4Qfx3A"
      },
      "source": [
        "for key, value in a_dict.items():\n",
        "    print(key, value)"
      ],
      "execution_count": null,
      "outputs": []
    },
    {
      "cell_type": "code",
      "metadata": {
        "id": "OcD3kFj6gF-2"
      },
      "source": [
        "for key in a_dict.keys():\n",
        "    print(a_dict[key])"
      ],
      "execution_count": null,
      "outputs": []
    },
    {
      "cell_type": "markdown",
      "metadata": {
        "id": "16q67fw0gRsz"
      },
      "source": [
        "# **IF statements**"
      ]
    },
    {
      "cell_type": "code",
      "metadata": {
        "id": "pWY32_EViSdT"
      },
      "source": [
        "for i, (key, value) in enumerate(a_dict.items()):\n",
        "    print(f\"Iteration {i}. \")\n",
        "    if i % 2 == 0:\n",
        "        print(f\"\\tKey: {key}, Value: {value}\")"
      ],
      "execution_count": null,
      "outputs": []
    },
    {
      "cell_type": "markdown",
      "metadata": {
        "id": "2BdRtmbRi3W7"
      },
      "source": [
        "# **List and dict comprehensions**"
      ]
    },
    {
      "cell_type": "code",
      "metadata": {
        "id": "24i0ZwNi6mRN"
      },
      "source": [
        "exp_list = [2**x for x in range(10)]"
      ],
      "execution_count": null,
      "outputs": []
    },
    {
      "cell_type": "code",
      "metadata": {
        "id": "UEN22jYs7w2J"
      },
      "source": [
        "exp_list"
      ],
      "execution_count": null,
      "outputs": []
    },
    {
      "cell_type": "code",
      "metadata": {
        "id": "mM76c9i_6kml"
      },
      "source": [
        "import matplotlib.pyplot as plt\n",
        "plt.plot(exp_list)"
      ],
      "execution_count": null,
      "outputs": []
    },
    {
      "cell_type": "markdown",
      "metadata": {
        "id": "mRhvI73Aopr_"
      },
      "source": [
        "Or even a matrix in a single line of code"
      ]
    },
    {
      "cell_type": "code",
      "metadata": {
        "id": "h3AnQB2InBCk"
      },
      "source": [
        "matrix = [[x*y for x in range(10)] for y in range(10)]      # Nesting lists"
      ],
      "execution_count": null,
      "outputs": []
    },
    {
      "cell_type": "code",
      "metadata": {
        "id": "tUTDftdSgc8i"
      },
      "source": [
        "matrix"
      ],
      "execution_count": null,
      "outputs": []
    },
    {
      "cell_type": "code",
      "metadata": {
        "id": "0aj5BpbXoNRM"
      },
      "source": [
        "plt.imshow(matrix)"
      ],
      "execution_count": null,
      "outputs": []
    },
    {
      "cell_type": "code",
      "metadata": {
        "id": "P3bPPKggkbvu"
      },
      "source": [
        "comp_dict = {f\"key_{i}\": i for i in range(5)}"
      ],
      "execution_count": null,
      "outputs": []
    },
    {
      "cell_type": "code",
      "metadata": {
        "id": "gWOhkz5Gknwd"
      },
      "source": [
        "comp_dict"
      ],
      "execution_count": null,
      "outputs": []
    },
    {
      "cell_type": "markdown",
      "metadata": {
        "id": "I7yPFbUWkpCZ"
      },
      "source": [
        "# [OPTIONAL] \n",
        "\n",
        "If you want to practice the concepts shown in this Colab do the following exercise:\n",
        "\n",
        "- Using python lists, for loops and if statements, implement a cell that sorts a given array x:"
      ]
    },
    {
      "cell_type": "code",
      "metadata": {
        "id": "a2t0nf7n6vur"
      },
      "source": [
        "import random\n",
        "random.seed(0)"
      ],
      "execution_count": null,
      "outputs": []
    },
    {
      "cell_type": "code",
      "metadata": {
        "id": "9QpuE9Bk62Yz"
      },
      "source": [
        "x = [random.randint(0,100) for x in range(10)]"
      ],
      "execution_count": null,
      "outputs": []
    },
    {
      "cell_type": "code",
      "metadata": {
        "id": "hJOgi8D468Y3"
      },
      "source": [
        "x"
      ],
      "execution_count": null,
      "outputs": []
    },
    {
      "cell_type": "code",
      "metadata": {
        "id": "sE2HGTim68-C"
      },
      "source": [
        "# Your code goes here\n",
        "\n",
        "...\n",
        "\n",
        "sorted_array = ...\n",
        "\n"
      ],
      "execution_count": null,
      "outputs": []
    },
    {
      "cell_type": "code",
      "metadata": {
        "id": "7zFAaFAj9kK0"
      },
      "source": [
        "sorted_array == [5, 33, 38, 49, 51, 53, 62, 65, 97, 100]"
      ],
      "execution_count": null,
      "outputs": []
    }
  ]
}