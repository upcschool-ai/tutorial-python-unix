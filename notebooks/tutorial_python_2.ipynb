{
  "nbformat": 4,
  "nbformat_minor": 0,
  "metadata": {
    "colab": {
      "provenance": [],
      "collapsed_sections": [
        "sglhGreX-iNf"
      ]
    },
    "kernelspec": {
      "name": "python3",
      "display_name": "Python 3"
    }
  },
  "cells": [
    {
      "cell_type": "markdown",
      "metadata": {
        "id": "MKo6kNC6G5Jh"
      },
      "source": [
        "# **Introduction to Python - Part 2**"
      ]
    },
    {
      "cell_type": "markdown",
      "metadata": {
        "id": "3Tb-b2_kJ-tX"
      },
      "source": [
        "**Remember to make a copy of this Notebook in your Google Drive**"
      ]
    },
    {
      "cell_type": "markdown",
      "metadata": {
        "id": "8DGn_DIHHtm1"
      },
      "source": [
        "First of all make sure that you're connected to an environment. In the top right corner you'll see a 'Connect' button, once you click on it you'll be assigned some resources of disk and ram running in Google Cloud servers."
      ]
    },
    {
      "cell_type": "markdown",
      "metadata": {
        "id": "x1fYHpD68fYC"
      },
      "source": [
        "* Define functions\n",
        "* Define classes\n",
        "* Inheritance\n",
        "* Modules"
      ]
    },
    {
      "cell_type": "code",
      "metadata": {
        "id": "4f6ZO540juwC"
      },
      "source": [
        "import math\n",
        "import matplotlib.pyplot as plt"
      ],
      "execution_count": null,
      "outputs": []
    },
    {
      "cell_type": "markdown",
      "metadata": {
        "id": "rDVSWwNjTCzG"
      },
      "source": [
        "## Definition of a function"
      ]
    },
    {
      "cell_type": "code",
      "metadata": {
        "id": "7B6CTUBuS9XH"
      },
      "source": [
        "def add_numbers(x, y):\n",
        "    return x+y"
      ],
      "execution_count": null,
      "outputs": []
    },
    {
      "cell_type": "code",
      "metadata": {
        "id": "663eeCt1TgpD"
      },
      "source": [
        "a = 10\n",
        "b = 4"
      ],
      "execution_count": null,
      "outputs": []
    },
    {
      "cell_type": "code",
      "metadata": {
        "id": "M-u4ImsFTH_N"
      },
      "source": [
        "add_numbers(a,b)"
      ],
      "execution_count": null,
      "outputs": []
    },
    {
      "cell_type": "code",
      "metadata": {
        "id": "4Vdc2SHiTN8F"
      },
      "source": [
        "def add_numbers(x=10, y=10):\n",
        "    return x+y"
      ],
      "execution_count": null,
      "outputs": []
    },
    {
      "cell_type": "code",
      "metadata": {
        "id": "OU0J73zUTQS3"
      },
      "source": [
        "add_numbers()"
      ],
      "execution_count": null,
      "outputs": []
    },
    {
      "cell_type": "code",
      "metadata": {
        "id": "S1m20mlcTSDO"
      },
      "source": [
        "add_numbers(y=2)"
      ],
      "execution_count": null,
      "outputs": []
    },
    {
      "cell_type": "code",
      "metadata": {
        "id": "BLkHbszgTfda"
      },
      "source": [
        "def add_numbers(*args):\n",
        "    return sum(args)"
      ],
      "execution_count": null,
      "outputs": []
    },
    {
      "cell_type": "code",
      "metadata": {
        "id": "rvBduJZXTl0C"
      },
      "source": [
        "add_numbers(123,456,789,987,654,321)"
      ],
      "execution_count": null,
      "outputs": []
    },
    {
      "cell_type": "code",
      "metadata": {
        "id": "AY9JI7iWTuvw"
      },
      "source": [
        "add_numbers(123,456,789,987,654,321,123,456,789,987,654,321)"
      ],
      "execution_count": null,
      "outputs": []
    },
    {
      "cell_type": "code",
      "metadata": {
        "id": "jkRKH8WKUPxA"
      },
      "source": [
        "def send_message(channel, **kwargs):\n",
        "    for k, v in kwargs.items():\n",
        "        print(f\"Sending {channel} on {k} to {v}.\")"
      ],
      "execution_count": null,
      "outputs": []
    },
    {
      "cell_type": "code",
      "metadata": {
        "id": "EDKgKXA2VAhc"
      },
      "source": [
        "send_message(\"email\", monday=\"Paul, John, Anne\", tuesday=\"Sophie, Kevin, Albert\")"
      ],
      "execution_count": null,
      "outputs": []
    },
    {
      "cell_type": "code",
      "metadata": {
        "id": "wjWbBi0WV1Qy"
      },
      "source": [
        "send_message(\"whatsapp\", monday=\"Paul, John, Anne\", tuesday=\"Sophie, Kevin, Albert\", wednesday=\"Charles, Thomas, Marie\")"
      ],
      "execution_count": null,
      "outputs": []
    },
    {
      "cell_type": "markdown",
      "metadata": {
        "id": "vIjb_r-2ZERv"
      },
      "source": [
        "## Now, let's say we want to control the temperature of an AC.\n",
        "\n",
        "The following function checks the state of the AC and depending on the state and the current temperature it will increase or decrease it."
      ]
    },
    {
      "cell_type": "code",
      "metadata": {
        "id": "E4c1ZcI9ZjLq"
      },
      "source": [
        "def update_ac(state, current_temp, desired_temp):\n",
        "    if not state or current_temp == desired_temp:\n",
        "        return current_temp\n",
        "\n",
        "    else:\n",
        "        if current_temp > desired_temp:\n",
        "            return current_temp - 1\n",
        "        else:\n",
        "            return current_temp + 1\n",
        "    "
      ],
      "execution_count": null,
      "outputs": []
    },
    {
      "cell_type": "code",
      "metadata": {
        "id": "rr74oy5nbhqY"
      },
      "source": [
        "update_ac(1, 30, 24)"
      ],
      "execution_count": null,
      "outputs": []
    },
    {
      "cell_type": "code",
      "metadata": {
        "id": "7mU_RvZGbqeC"
      },
      "source": [
        "timesteps = 10\n",
        "state = 1\n",
        "current_temp = 17\n",
        "desired_temp = 23\n",
        "\n",
        "for i in range(timesteps):\n",
        "    print(f\"Timestep {i}: Temp: {current_temp}ºC \\tTarget: {desired_temp}ºC\")\n",
        "    current_temp = update_ac(state, current_temp, desired_temp)"
      ],
      "execution_count": null,
      "outputs": []
    },
    {
      "cell_type": "markdown",
      "metadata": {
        "id": "sglhGreX-iNf"
      },
      "source": [
        "### Hidden Plot function "
      ]
    },
    {
      "cell_type": "code",
      "metadata": {
        "id": "U3DMOMGZ-lb-"
      },
      "source": [
        "def plotTemperature(temps, ac, timesteps):\n",
        "    x = [i for i in range(timesteps)]\n",
        "    plt.plot(x, temps)\n",
        "    plt.plot(x, [ac.initial_temp]*len(x), color=\"r\", linewidth=\"3\")\n",
        "    plt.text(timesteps-150, ac.initial_temp + .5, \"Target temperature\")\n",
        "    mn, mx = ac.getMinMax()\n",
        "    plt.ylim(mn-1.5, mx+1.5)\n",
        "    plt.xlabel(\"Time (min)\")\n",
        "    plt.ylabel(\"Temperature (ºC)\")"
      ],
      "execution_count": null,
      "outputs": []
    },
    {
      "cell_type": "markdown",
      "metadata": {
        "id": "TOlZTDxFUoPU"
      },
      "source": [
        "## Definition of a Class"
      ]
    },
    {
      "cell_type": "code",
      "metadata": {
        "id": "SK6bjdP_Ure_"
      },
      "source": [
        "class AirConditioner:\n",
        "    '''\n",
        "    The init function is the first one called. \n",
        "    It allows you to initialize the class with the arguments defined below.\n",
        "    Some of them are required like 'brand', and some others have a\n",
        "    default value like 'state', 'temperature', 'target_temp', 'step' and 'delta'.\n",
        "    '''\n",
        "    def __init__(self, \n",
        "                 brand, \n",
        "                 state=0, \n",
        "                 temperature=24., \n",
        "                 target_temp=None, \n",
        "                 step=0.1, \n",
        "                 delta = 0.5\n",
        "            ):\n",
        "        \n",
        "        # Attributes of the class\n",
        "        self.brand = brand\n",
        "        self.state = state\n",
        "        self.temperature = temperature\n",
        "        self.initial_temp = temperature\n",
        "        self.target_temp = target_temp\n",
        "        self.step = step\n",
        "        self.timestep = 0.\n",
        "        self.delta = delta\n",
        "        self.mode = None\n",
        "\n",
        "    '''\n",
        "    Private function. Defined with a double underscore.\n",
        "    You cannot access it from an instance of the class.\n",
        "    '''\n",
        "    def __increase_temp(self):\n",
        "        if self.temperature > self.target_temp:\n",
        "            return\n",
        "        if self.state:\n",
        "            self.temperature = self.initial_temp + (self.target_temp - self.initial_temp) * math.exp(-1/(3*self.timestep+0.1))\n",
        "        else:\n",
        "            self.temperature = self.timestep / 6 + self.initial_temp\n",
        "\n",
        "    def __decrease_temp(self):\n",
        "        if self.temperature < self.target_temp:\n",
        "            return\n",
        "        if self.state:\n",
        "            self.temperature = self.target_temp + (self.initial_temp - self.target_temp) * math.exp(-self.timestep / (self.initial_temp - self.target_temp))\n",
        "        else:\n",
        "            self.temperature = -self.timestep / 6 + self.initial_temp\n",
        "            \n",
        "    '''\n",
        "    Public function. As you can see all functions need the variable 'self'\n",
        "    which allows you call other functions or variables defined in the class.\n",
        "    '''\n",
        "    def turn_on(self, target_temp):\n",
        "        print(\"Turning AC on...\")\n",
        "\n",
        "        self.state = 1\n",
        "        self.timestep = 0\n",
        "        self.target_temp = target_temp\n",
        "        d = target_temp - self.temperature\n",
        "        \n",
        "        if d > 0:\n",
        "            print(\"\\tActivated heating mode.\")\n",
        "            self.mode = 0\n",
        "        else:\n",
        "            print(\"\\tActivated cooling mode.\")\n",
        "            self.mode = 1\n",
        "\n",
        "        print(f\"\\tCurrent temperature: {self.temperature}ºC\\t-->\\tTarget: {self.target_temp}ºC\")\n",
        "\n",
        "    def turn_off(self):\n",
        "        print(\"Turning AC off...\")\n",
        "        self.state = 0\n",
        "        self.timestep = 0.\n",
        "        self.target_temp = self.initial_temp\n",
        "        self.initial_temp = self.temperature\n",
        "        self.mode = not self.mode\n",
        "\n",
        "\n",
        "    def update_temp(self):\n",
        "        if self.temperature > self.target_temp and self.mode:\n",
        "            self.__decrease_temp()\n",
        "\n",
        "        elif self.temperature < self.target_temp and not self.mode:\n",
        "            self.__increase_temp()\n",
        "        \n",
        "        self.timestep += self.step\n",
        "        return self.temperature\n",
        "\n",
        "    def getMinMax(self):\n",
        "        return (min(self.initial_temp, self.target_temp), max(self.initial_temp, self.target_temp))\n"
      ],
      "execution_count": null,
      "outputs": []
    },
    {
      "cell_type": "code",
      "metadata": {
        "id": "bEs5Ri9nsj6W"
      },
      "source": [
        "test = AirConditioner(\"TestBrand\")\n",
        "test.__increase_temp()"
      ],
      "execution_count": null,
      "outputs": []
    },
    {
      "cell_type": "code",
      "metadata": {
        "id": "niXrVUEKsKn2"
      },
      "source": [
        "ac = AirConditioner(\"Hitoshi\")\n",
        "target_temp = 18.\n",
        "ac.turn_on(target_temp)\n",
        "\n",
        "\n",
        "temps = []\n",
        "\n",
        "timesteps = 400\n",
        "\n",
        "for i in range(timesteps):\n",
        "    temps.append(round(ac.update_temp(),2))\n",
        "    if abs(temps[-1] - target_temp) < ac.delta and ac.state:\n",
        "        print(\"\\tTemperature reached!\")\n",
        "        ac.turn_off()"
      ],
      "execution_count": null,
      "outputs": []
    },
    {
      "cell_type": "code",
      "metadata": {
        "id": "YMPdZAIi_vEt"
      },
      "source": [
        "plotTemperature(temps, ac, timesteps)"
      ],
      "execution_count": null,
      "outputs": []
    },
    {
      "cell_type": "code",
      "metadata": {
        "id": "Lp0KSL8L8Hfy"
      },
      "source": [
        "ac1 = AirConditioner(\"Hitoshi\", temperature=5.)\n",
        "\n",
        "target_temp = 24.\n",
        "ac1.turn_on(target_temp)\n",
        "\n",
        "temps = []\n",
        "\n",
        "timesteps = 400\n",
        "\n",
        "for i in range(timesteps):\n",
        "    temps.append(round(ac1.update_temp(),2))\n",
        "    if abs(temps[-1] - target_temp) < ac1.delta and ac1.state:\n",
        "        print(\"\\tTemperature reached!\")\n",
        "        ac1.turn_off()"
      ],
      "execution_count": null,
      "outputs": []
    },
    {
      "cell_type": "code",
      "metadata": {
        "id": "GGbgpEKr8Hfz"
      },
      "source": [
        "plotTemperature(temps, ac1, timesteps)"
      ],
      "execution_count": null,
      "outputs": []
    },
    {
      "cell_type": "markdown",
      "metadata": {
        "id": "cGGaVJBy8-FD"
      },
      "source": [
        "# Inheritance"
      ]
    },
    {
      "cell_type": "code",
      "metadata": {
        "id": "bb4xBCxEtpCk"
      },
      "source": [
        "from abc import abstractmethod"
      ],
      "execution_count": null,
      "outputs": []
    },
    {
      "cell_type": "code",
      "metadata": {
        "id": "x8__jxXCtCZ4"
      },
      "source": [
        "class AirConditioner:\n",
        "    '''\n",
        "    The init function is the first one called. \n",
        "    It allows you to initialize the class with the arguments defined below.\n",
        "    Some of them are required like 'owner' or 'brand', and some others have a\n",
        "    default value like 'color' or 'position'.\n",
        "    '''\n",
        "    def __init__(self, \n",
        "                 brand, \n",
        "                 state=0, \n",
        "                 temperature=24., \n",
        "                 target_temp=None, \n",
        "                 step=0.1, \n",
        "                 delta = 0.5\n",
        "            ):\n",
        "        \n",
        "        # Attributes of the class\n",
        "        self.brand = brand\n",
        "        self.state = state\n",
        "        self.temperature = temperature\n",
        "        self.initial_temp = temperature\n",
        "        self.target_temp = target_temp\n",
        "        self.step = step\n",
        "        self.timestep = 0.\n",
        "        self.delta = delta\n",
        "        self.mode = None\n",
        "\n",
        "    '''\n",
        "    Private function. Defined with a double underscore.\n",
        "    You cannot access it from an instance of the class.\n",
        "    '''\n",
        "\n",
        "    @abstractmethod\n",
        "    def increase_temp(self):\n",
        "        raise NotImplementedError()\n",
        "    \n",
        "    @abstractmethod\n",
        "    def decrease_temp(self):\n",
        "        raise NotImplementedError()\n",
        "\n",
        "    '''\n",
        "    Public function. As you can see all functions need the variable 'self'\n",
        "    which allows you call other functions or variables defined in the class.\n",
        "    '''\n",
        "    def turn_on(self, target_temp):\n",
        "        print(\"Turning AC on...\")\n",
        "\n",
        "        self.state = 1\n",
        "        self.timestep = 0\n",
        "        self.target_temp = target_temp\n",
        "        d = target_temp - self.temperature\n",
        "        \n",
        "        if d > 0:\n",
        "            print(\"\\tActivated heating mode.\")\n",
        "            self.mode = 0\n",
        "        else:\n",
        "            print(\"\\tActivated cooling mode.\")\n",
        "            self.mode = 1\n",
        "\n",
        "        print(f\"\\tCurrent temperature: {self.temperature}ºC\\t-->\\tTarget: {self.target_temp}ºC\")\n",
        "\n",
        "    def turn_off(self):\n",
        "        print(\"Turning AC off...\")\n",
        "        self.state = 0\n",
        "        self.timestep = 0.\n",
        "        self.target_temp = self.initial_temp\n",
        "        self.initial_temp = self.temperature\n",
        "        self.mode = not self.mode\n",
        "\n",
        "\n",
        "    def update_temp(self):\n",
        "        if self.temperature > self.target_temp and self.mode:\n",
        "            self.decrease_temp()\n",
        "\n",
        "        elif self.temperature < self.target_temp and not self.mode:\n",
        "            self.increase_temp()\n",
        "        \n",
        "        self.timestep += self.step\n",
        "        return self.temperature\n",
        "\n",
        "    def getMinMax(self):\n",
        "        return (min(self.initial_temp, self.target_temp), max(self.initial_temp, self.target_temp))"
      ],
      "execution_count": null,
      "outputs": []
    },
    {
      "cell_type": "code",
      "metadata": {
        "id": "k8JCIgmUuR9H"
      },
      "source": [
        "class Hitoshi(AirConditioner):\n",
        "    def __init__(self, *args):\n",
        "        super().__init__(*args)\n",
        "\n",
        "    def increase_temp(self):\n",
        "        if self.state:\n",
        "            self.temperature = self.initial_temp + (self.target_temp - self.initial_temp) * math.exp(-1/(3*self.timestep+0.1))\n",
        "        else:\n",
        "            self.temperature = self.timestep / 6 + self.initial_temp\n",
        "\n",
        "    def decrease_temp(self):\n",
        "        if self.state:\n",
        "            self.temperature = self.target_temp + (self.initial_temp - self.target_temp) * math.exp(-self.timestep / (self.initial_temp - self.target_temp))\n",
        "        else:\n",
        "            self.temperature = -self.timestep / 6 + self.initial_temp       "
      ],
      "execution_count": null,
      "outputs": []
    },
    {
      "cell_type": "code",
      "metadata": {
        "id": "kd_PGycJuwzd"
      },
      "source": [
        "class Airoshi(AirConditioner):\n",
        "    def __init__(self, *args):\n",
        "        super().__init__(*args)\n",
        "\n",
        "    def increase_temp(self):\n",
        "        if self.state:\n",
        "            self.temperature = self.initial_temp + (self.target_temp - self.initial_temp) * math.exp(-1/(4*self.timestep+0.1))\n",
        "        else:\n",
        "            self.temperature = self.timestep / 5 + self.initial_temp\n",
        "\n",
        "    def decrease_temp(self):\n",
        "        if self.state:\n",
        "            self.temperature = self.target_temp + (self.initial_temp - self.target_temp) * math.exp(-self.timestep / 15*(self.initial_temp - self.target_temp))\n",
        "        else:\n",
        "            self.temperature = -self.timestep / 5 + self.initial_temp"
      ],
      "execution_count": null,
      "outputs": []
    },
    {
      "cell_type": "code",
      "metadata": {
        "id": "tY-YosM6mh2w"
      },
      "source": [
        "ac1 = Hitoshi(\"Hitoshi\")\n",
        "ac2 = Airoshi(\"Airoshi\")\n",
        "\n",
        "target_temp = 18.\n",
        "ac1.turn_on(target_temp)\n",
        "ac2.turn_on(target_temp)\n",
        "\n",
        "temps_1 = []\n",
        "temps_2 = []\n",
        "\n",
        "timesteps = 100\n",
        "\n",
        "for i in range(timesteps):\n",
        "    temps_1.append(round(ac1.update_temp(),2))\n",
        "    temps_2.append(round(ac2.update_temp(),2))"
      ],
      "execution_count": null,
      "outputs": []
    },
    {
      "cell_type": "code",
      "metadata": {
        "id": "i_MG3JC1vm-j"
      },
      "source": [
        "plt.plot([i for i in range(len(temps_1))], temps_1)\n",
        "plt.plot([i for i in range(len(temps_2))], temps_2)\n",
        "\n",
        "x = [i for i in range(timesteps)]\n",
        "\n",
        "plt.plot(x, [ac1.target_temp]*len(x), color=\"r\", linewidth=\"2\")\n",
        "plt.text(0, ac1.target_temp + .3, \"Target temperature\")\n",
        "mn, mx = ac1.getMinMax()\n",
        "plt.ylim(mn-1, mx+1)\n",
        "plt.xlabel(\"Time (min)\")\n",
        "plt.ylabel(\"Temperature (ºC)\")\n",
        "plt.legend([\"Hitoshi\", \"Airoshi\"])"
      ],
      "execution_count": null,
      "outputs": []
    },
    {
      "cell_type": "markdown",
      "metadata": {
        "id": "1IJ54giAEnAM"
      },
      "source": [
        "# Modules"
      ]
    },
    {
      "cell_type": "code",
      "metadata": {
        "id": "PT28u5N5TuAx"
      },
      "source": [
        "import json\n",
        "from pprint import pprint\n",
        "from urllib.request import urlopen\n",
        "with urlopen('https://pypi.org/pypi/sampleproject/json') as resp:\n",
        "    project_info = json.load(resp)['info']"
      ],
      "execution_count": null,
      "outputs": []
    },
    {
      "cell_type": "code",
      "metadata": {
        "id": "YSXHGHHjl1qY"
      },
      "source": [
        "type(project_info)"
      ],
      "execution_count": null,
      "outputs": []
    },
    {
      "cell_type": "code",
      "metadata": {
        "id": "VL_OQOa5l43G"
      },
      "source": [
        "project_info"
      ],
      "execution_count": null,
      "outputs": []
    },
    {
      "cell_type": "code",
      "metadata": {
        "id": "l6ds5w8Nk2NZ"
      },
      "source": [
        "pprint(project_info)"
      ],
      "execution_count": null,
      "outputs": []
    },
    {
      "cell_type": "code",
      "metadata": {
        "id": "y056Ef3zmN8f"
      },
      "source": [
        "!git clone https://github.com/aleju/imgaug.git"
      ],
      "execution_count": null,
      "outputs": []
    },
    {
      "cell_type": "code",
      "metadata": {
        "id": "jbAA3v-tr87q"
      },
      "source": [
        "img = plt.imread('imgaug/imgaug/quokka.jpg')"
      ],
      "execution_count": null,
      "outputs": []
    },
    {
      "cell_type": "code",
      "metadata": {
        "id": "zvRr8tRatr7o"
      },
      "source": [
        "img.shape"
      ],
      "execution_count": null,
      "outputs": []
    },
    {
      "cell_type": "code",
      "metadata": {
        "id": "Fjup5noOtqEZ"
      },
      "source": [
        "fig, ax = plt.subplots(figsize=(20, 10))\n",
        "plt.imshow(img)"
      ],
      "execution_count": null,
      "outputs": []
    },
    {
      "cell_type": "code",
      "metadata": {
        "id": "HpPKLPfpuhHN"
      },
      "source": [
        "from imgaug.augmenters import blur"
      ],
      "execution_count": null,
      "outputs": []
    },
    {
      "cell_type": "code",
      "metadata": {
        "id": "zSZRUf0Buuo3"
      },
      "source": [
        "img_blurred = blur.blur_gaussian_(img, 10)"
      ],
      "execution_count": null,
      "outputs": []
    },
    {
      "cell_type": "code",
      "metadata": {
        "id": "0V04_u3YvDXr"
      },
      "source": [
        "img_blurred.shape"
      ],
      "execution_count": null,
      "outputs": []
    },
    {
      "cell_type": "code",
      "metadata": {
        "id": "wzMfLqBkvFDa"
      },
      "source": [
        "fig, ax = plt.subplots(figsize=(20, 10))\n",
        "plt.imshow(img_blurred)"
      ],
      "execution_count": null,
      "outputs": []
    },
    {
      "cell_type": "code",
      "metadata": {
        "id": "iPnJd-Xsxj3M"
      },
      "source": [
        "from imgaug.augmenters import EdgeDetect"
      ],
      "execution_count": null,
      "outputs": []
    },
    {
      "cell_type": "code",
      "metadata": {
        "id": "Q5lp-Um_xjL6"
      },
      "source": [
        "aug = EdgeDetect(alpha=0.9)"
      ],
      "execution_count": null,
      "outputs": []
    },
    {
      "cell_type": "code",
      "metadata": {
        "id": "Sul5KX40yaBv"
      },
      "source": [
        "img_edge = aug.augment_image(img)"
      ],
      "execution_count": null,
      "outputs": []
    },
    {
      "cell_type": "code",
      "metadata": {
        "id": "OIFG4ocpxrwY"
      },
      "source": [
        "fig, ax = plt.subplots(figsize=(20, 10))\n",
        "plt.imshow(img_edge)"
      ],
      "execution_count": null,
      "outputs": []
    },
    {
      "cell_type": "markdown",
      "metadata": {
        "id": "FSy2lZrjTu9J"
      },
      "source": [
        "# [OPTIONAL 1] \n",
        "\n",
        "If you want to practice the concepts shown in this Colab do the following exercise:\n",
        "\n",
        "- Create an abstract class for your sorting algorithms.\n",
        "- Implement a couple of sorting algorithms by using the abstract class from the previous step.\n",
        "- Do not use any external library. Only python code allowed."
      ]
    },
    {
      "cell_type": "code",
      "metadata": {
        "id": "b1cOFWWh6YhF"
      },
      "source": [],
      "execution_count": null,
      "outputs": []
    },
    {
      "cell_type": "markdown",
      "metadata": {
        "id": "H4afZXb2-swt"
      },
      "source": [
        "# [OPTIONAL 2]\n",
        "\n",
        "Complete the fibonacci function. This function returns the sum of the two preceding elements in the fibonacci sequence starting from 0 and 1."
      ]
    },
    {
      "cell_type": "code",
      "metadata": {
        "id": "il44glG__TeF"
      },
      "source": [
        "class Fibonacci:\n",
        "    def fib(self, n):\n",
        "        ..."
      ],
      "execution_count": null,
      "outputs": []
    },
    {
      "cell_type": "code",
      "metadata": {
        "id": "OvYQtKYq_beM"
      },
      "source": [
        "# Tests\n",
        "f = Fibonacci()\n",
        "f.fib(0) == 0\n",
        "f.fib(1) == 1\n",
        "f.fib(2) == 1\n",
        "f.fib(3) == 2\n",
        "f.fib(4) == 3\n",
        "f.fib(5) == 5\n",
        "f.fib(6) == 8\n",
        "f.fib(7) == 13"
      ],
      "execution_count": null,
      "outputs": []
    }
  ]
}