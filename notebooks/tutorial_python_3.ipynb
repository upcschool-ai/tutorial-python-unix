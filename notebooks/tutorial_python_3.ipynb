{
  "nbformat": 4,
  "nbformat_minor": 0,
  "metadata": {
    "colab": {
      "provenance": [],
      "collapsed_sections": []
    },
    "kernelspec": {
      "name": "python3",
      "display_name": "Python 3"
    }
  },
  "cells": [
    {
      "cell_type": "markdown",
      "metadata": {
        "id": "MKo6kNC6G5Jh"
      },
      "source": [
        "# **Introduction to Python - Part 3**"
      ]
    },
    {
      "cell_type": "markdown",
      "metadata": {
        "id": "3Tb-b2_kJ-tX"
      },
      "source": [
        "**Remember to make a copy of this Notebook in your Google Drive**"
      ]
    },
    {
      "cell_type": "markdown",
      "metadata": {
        "id": "8DGn_DIHHtm1"
      },
      "source": [
        "First of all make sure that you're connected to an environment. In the top right corner you'll see a 'Connect' button, once you click on it you'll be assigned some resources of disk and ram running in Google Cloud servers."
      ]
    },
    {
      "cell_type": "markdown",
      "metadata": {
        "id": "H5uIv3848mQO"
      },
      "source": [
        "* Numpy basics\n",
        "* Pandas basics\n",
        "* Matplotlib basics\n",
        "* Seaborn basics"
      ]
    },
    {
      "cell_type": "markdown",
      "metadata": {
        "id": "30YGdz6ASiB1"
      },
      "source": [
        "# Matplotlib\n"
      ]
    },
    {
      "cell_type": "code",
      "metadata": {
        "id": "tUrYJRPY3mAA"
      },
      "source": [
        "import matplotlib\n",
        "import matplotlib.pyplot as plt"
      ],
      "execution_count": null,
      "outputs": []
    },
    {
      "cell_type": "markdown",
      "metadata": {
        "id": "j-ysVvjHeVHh"
      },
      "source": [
        "# Seaborn\n",
        "\n",
        "\n",
        "\"Seaborn is a library for making statistical graphics in Python. It builds on top of matplotlib and integrates closely with pandas data structures.\"\n",
        "http://seaborn.pydata.org/introduction.html"
      ]
    },
    {
      "cell_type": "code",
      "metadata": {
        "id": "DQbT8RJTeWvO"
      },
      "source": [
        "import seaborn as sns"
      ],
      "execution_count": null,
      "outputs": []
    },
    {
      "cell_type": "markdown",
      "metadata": {
        "id": "6TCVhzuxcww1"
      },
      "source": [
        "# Numpy"
      ]
    },
    {
      "cell_type": "code",
      "metadata": {
        "id": "3_CRj083SN_c"
      },
      "source": [
        "import numpy as np"
      ],
      "execution_count": null,
      "outputs": []
    },
    {
      "cell_type": "markdown",
      "metadata": {
        "id": "vccY4fGxSB7K"
      },
      "source": [
        "Numpy as they self-describe in their [website](https://numpy.org) is a package for scientific computing with Python."
      ]
    },
    {
      "cell_type": "markdown",
      "metadata": {
        "id": "t47noSaXgl2x"
      },
      "source": [
        "Here you can see a few examples of functions used in numpy so you can infer some of the functionality of the library. For detailed information of each function check out their [documentation](https://numpy.org/doc/stable/).\n",
        "\n"
      ]
    },
    {
      "cell_type": "markdown",
      "metadata": {
        "id": "d4W1jAwVSuCM"
      },
      "source": [
        "1. **Convert list into array.**"
      ]
    },
    {
      "cell_type": "code",
      "metadata": {
        "id": "0ztVx83OSWhT"
      },
      "source": [
        "var_a = [0, 1, 2, 3, 4]\n",
        "np.array(var_a)"
      ],
      "execution_count": null,
      "outputs": []
    },
    {
      "cell_type": "markdown",
      "metadata": {
        "id": "lGrCvvHQSxTz"
      },
      "source": [
        "2. **Vector or matrix array of zeros or ones.**"
      ]
    },
    {
      "cell_type": "code",
      "metadata": {
        "id": "hfKiAEGtSdPA"
      },
      "source": [
        "np.zeros((3,3))"
      ],
      "execution_count": null,
      "outputs": []
    },
    {
      "cell_type": "code",
      "metadata": {
        "id": "p5gHFDFVShSU"
      },
      "source": [
        "np.ones(3)"
      ],
      "execution_count": null,
      "outputs": []
    },
    {
      "cell_type": "markdown",
      "metadata": {
        "id": "Rj-Y-pbkS0zp"
      },
      "source": [
        "3. **Linearly spaced list**"
      ]
    },
    {
      "cell_type": "code",
      "metadata": {
        "id": "44Mz7S-BSkrn"
      },
      "source": [
        "np.linspace(1, 10, num=10)"
      ],
      "execution_count": null,
      "outputs": []
    },
    {
      "cell_type": "markdown",
      "metadata": {
        "id": "nko02Df2S4e0"
      },
      "source": [
        "4. **Same as previous one but instead of indicating the number of elements you indicate the step.**"
      ]
    },
    {
      "cell_type": "code",
      "metadata": {
        "id": "UeJ3m1YWSmdf"
      },
      "source": [
        "np.arange(0, 10, 1)"
      ],
      "execution_count": null,
      "outputs": []
    },
    {
      "cell_type": "code",
      "metadata": {
        "id": "68ItKoNuS30D"
      },
      "source": [
        "list_matrix = [[x*y for x in range(10)] for y in range(10)]\n",
        "matrix = np.array(list_matrix)"
      ],
      "execution_count": null,
      "outputs": []
    },
    {
      "cell_type": "code",
      "metadata": {
        "id": "8h4XT8n74QY_"
      },
      "source": [
        "matrix"
      ],
      "execution_count": null,
      "outputs": []
    },
    {
      "cell_type": "code",
      "metadata": {
        "id": "yZ9xkr3g3kjw"
      },
      "source": [
        "plt.imshow(matrix)"
      ],
      "execution_count": null,
      "outputs": []
    },
    {
      "cell_type": "code",
      "metadata": {
        "id": "2h__qdcG2yQB"
      },
      "source": [
        "matrix.ravel()"
      ],
      "execution_count": null,
      "outputs": []
    },
    {
      "cell_type": "code",
      "metadata": {
        "id": "lIb1F_Hf3WeN"
      },
      "source": [
        "matrix.mean(), matrix.max(), matrix.min()"
      ],
      "execution_count": null,
      "outputs": []
    },
    {
      "cell_type": "code",
      "metadata": {
        "id": "-tBy0rFskKdG"
      },
      "source": [
        "matrix.max(axis=1)"
      ],
      "execution_count": null,
      "outputs": []
    },
    {
      "cell_type": "code",
      "metadata": {
        "id": "7Hw77RnO3eI2"
      },
      "source": [
        "matrix.trace()"
      ],
      "execution_count": null,
      "outputs": []
    },
    {
      "cell_type": "code",
      "metadata": {
        "id": "Ih9Rhb4x3_5b"
      },
      "source": [
        "a=matrix.reshape((5,20))"
      ],
      "execution_count": null,
      "outputs": []
    },
    {
      "cell_type": "code",
      "metadata": {
        "id": "6ZPKcbb6kdbP"
      },
      "source": [
        "a"
      ],
      "execution_count": null,
      "outputs": []
    },
    {
      "cell_type": "code",
      "metadata": {
        "id": "eOsWQd8-keN5"
      },
      "source": [
        "a.shape"
      ],
      "execution_count": null,
      "outputs": []
    },
    {
      "cell_type": "code",
      "metadata": {
        "id": "Iwpr7GrqLTP4"
      },
      "source": [
        "x = np.linspace(-np.pi, np.pi, 100)\n",
        "plt.plot(x, np.sin(x))\n",
        "plt.plot(x, np.sin(2*x))\n",
        "plt.plot(x, np.sin(4*x))\n",
        "plt.xlabel('Angle [rad]')\n",
        "plt.ylabel('sin(x)')\n",
        "plt.legend(['x', '2x', '4x'])\n",
        "plt.show()"
      ],
      "execution_count": null,
      "outputs": []
    },
    {
      "cell_type": "code",
      "metadata": {
        "id": "-P98A8ddkt-u"
      },
      "source": [
        "x"
      ],
      "execution_count": null,
      "outputs": []
    },
    {
      "cell_type": "markdown",
      "metadata": {
        "id": "Bkei1pdhA1zZ"
      },
      "source": [
        "# Pandas\n",
        "\n",
        "pandas is a fast, powerful, flexible and easy to use open source data analysis and manipulation tool,\n",
        "built on top of the Python programming language."
      ]
    },
    {
      "cell_type": "code",
      "metadata": {
        "id": "wAaiN3KDA4N-"
      },
      "source": [
        "import pandas as pd"
      ],
      "execution_count": null,
      "outputs": []
    },
    {
      "cell_type": "markdown",
      "metadata": {
        "id": "2BeANf68B0P0"
      },
      "source": [
        "## Series"
      ]
    },
    {
      "cell_type": "code",
      "metadata": {
        "id": "C6JsUFXaB2QZ"
      },
      "source": [
        "s = pd.Series([1,2,3,4], index=[\"a\", \"b\", \"c\", \"d\"])"
      ],
      "execution_count": null,
      "outputs": []
    },
    {
      "cell_type": "code",
      "metadata": {
        "id": "veJrrm9oB8Si"
      },
      "source": [
        "s"
      ],
      "execution_count": null,
      "outputs": []
    },
    {
      "cell_type": "markdown",
      "metadata": {
        "id": "gpccsshdFi1B"
      },
      "source": [
        "## Dataframes"
      ]
    },
    {
      "cell_type": "code",
      "metadata": {
        "id": "-h28pbkyBMFk"
      },
      "source": [
        "df = pd.DataFrame({\n",
        "    \"Country\": [\"France\", \"Portugal\", \"Spain\", \"Andorra\"], \n",
        "    \"Capital\": [\"Paris\", \"Lisbon\", \"Madrid\", \"Andorra la Vella\"], \n",
        "    \"Population\": [2161000, 504718, 3223000, 22256]\n",
        "    })"
      ],
      "execution_count": null,
      "outputs": []
    },
    {
      "cell_type": "code",
      "metadata": {
        "id": "wXUZ4eyrBWgX"
      },
      "source": [
        "df"
      ],
      "execution_count": null,
      "outputs": []
    },
    {
      "cell_type": "code",
      "metadata": {
        "id": "Zx9Gu9tADNkD"
      },
      "source": [
        "df.iloc[[0],[0]]"
      ],
      "execution_count": null,
      "outputs": []
    },
    {
      "cell_type": "code",
      "metadata": {
        "id": "iX5NuTlQDSqB"
      },
      "source": [
        "df['Capital']"
      ],
      "execution_count": null,
      "outputs": []
    },
    {
      "cell_type": "code",
      "metadata": {
        "id": "BAggcAp5Ddhh"
      },
      "source": [
        "df[(df['Population'] > 1e6)]"
      ],
      "execution_count": null,
      "outputs": []
    },
    {
      "cell_type": "code",
      "metadata": {
        "id": "jXmb6iG7Dqk9"
      },
      "source": [
        "df.sort_values(by=\"Population\")"
      ],
      "execution_count": null,
      "outputs": []
    },
    {
      "cell_type": "code",
      "metadata": {
        "id": "xIbVLWy6D7LT"
      },
      "source": [
        "df.sort_values(by=\"Population\", ascending=False)"
      ],
      "execution_count": null,
      "outputs": []
    },
    {
      "cell_type": "code",
      "metadata": {
        "id": "zjNYlVPNEBJ4"
      },
      "source": [
        "df.describe()"
      ],
      "execution_count": null,
      "outputs": []
    },
    {
      "cell_type": "code",
      "metadata": {
        "id": "XJwHso4xEN35"
      },
      "source": [
        "df.info()"
      ],
      "execution_count": null,
      "outputs": []
    },
    {
      "cell_type": "code",
      "metadata": {
        "id": "t-maKubtEQ5J"
      },
      "source": [
        "df.columns"
      ],
      "execution_count": null,
      "outputs": []
    },
    {
      "cell_type": "code",
      "metadata": {
        "id": "J0qfE6-HEVVu"
      },
      "source": [
        "df.append({\"Country\": \"Italy\", \"Capital\": \"Rome\", \"Population\": 2873000}, ignore_index=True)"
      ],
      "execution_count": null,
      "outputs": []
    },
    {
      "cell_type": "markdown",
      "metadata": {
        "id": "0nG5yVtHFntr"
      },
      "source": [
        "## Load external dataset"
      ]
    },
    {
      "cell_type": "code",
      "metadata": {
        "id": "x8PboOpOA5dE"
      },
      "source": [
        "iris_df = pd.read_csv('https://raw.githubusercontent.com/mwaskom/seaborn-data/master/iris.csv')"
      ],
      "execution_count": null,
      "outputs": []
    },
    {
      "cell_type": "code",
      "metadata": {
        "id": "y4pKUIIGWJf0"
      },
      "source": [
        "# you can also read a csv file from a local path\n",
        "iris_df = pd.read_csv('/home/user/file.csv')"
      ],
      "execution_count": null,
      "outputs": []
    },
    {
      "cell_type": "code",
      "metadata": {
        "id": "K_8kIFGPfAd2"
      },
      "source": [
        "iris_df.shape"
      ],
      "execution_count": null,
      "outputs": []
    },
    {
      "cell_type": "code",
      "metadata": {
        "id": "xglOnZSIBJJ9"
      },
      "source": [
        "iris_df.head()"
      ],
      "execution_count": null,
      "outputs": []
    },
    {
      "cell_type": "code",
      "metadata": {
        "id": "8Gc_zIuaBKTY"
      },
      "source": [
        "iris_df.describe()"
      ],
      "execution_count": null,
      "outputs": []
    },
    {
      "cell_type": "code",
      "metadata": {
        "id": "adMSXEXEG6p_"
      },
      "source": [
        "plt.title('Species Count')\n",
        "sns.countplot(x=iris_df['species'])"
      ],
      "execution_count": null,
      "outputs": []
    },
    {
      "cell_type": "code",
      "metadata": {
        "id": "8YunkMmaYu7W"
      },
      "source": [
        "sns.histplot(data=iris_df, x=\"petal_length\", bins=20)"
      ],
      "execution_count": null,
      "outputs": []
    },
    {
      "cell_type": "code",
      "metadata": {
        "id": "tkVKRE4ZZR6u"
      },
      "source": [
        "sns.histplot(data=iris_df, x=\"petal_length\", hue=\"species\", bins=20, kde=True)"
      ],
      "execution_count": null,
      "outputs": []
    },
    {
      "cell_type": "code",
      "metadata": {
        "id": "WyzJUpXQfD3t"
      },
      "source": [
        "plt.figure(figsize=(12,8))\n",
        "plt.title('Comparison between sepal width and length')\n",
        "sns.scatterplot(x=iris_df['sepal_length'], y=iris_df['sepal_width'])"
      ],
      "execution_count": null,
      "outputs": []
    },
    {
      "cell_type": "code",
      "metadata": {
        "id": "XHuX6GrAfYbz"
      },
      "source": [
        "plt.figure(figsize=(12,8))\n",
        "plt.title('Comparison between sepal width and length on the basis of species')\n",
        "sns.scatterplot(iris_df['sepal_length'], iris_df['sepal_width'], hue = iris_df['species'], s= 50)"
      ],
      "execution_count": null,
      "outputs": []
    },
    {
      "cell_type": "code",
      "metadata": {
        "id": "RgxkWDEbfohu"
      },
      "source": [
        "plt.figure(figsize=(12,8))\n",
        "plt.title('Comparison between petal width and length on the basis of species')\n",
        "sns.scatterplot(iris_df['petal_length'], iris_df['petal_width'], hue = iris_df['species'], s= 50);"
      ],
      "execution_count": null,
      "outputs": []
    },
    {
      "cell_type": "code",
      "metadata": {
        "id": "oqPDWlQuf8nv"
      },
      "source": [
        "sns.pairplot(iris_df,hue=\"species\",height=3);"
      ],
      "execution_count": null,
      "outputs": []
    },
    {
      "cell_type": "code",
      "metadata": {
        "id": "mQAQm4qhhA6Y"
      },
      "source": [
        "fig, axes = plt.subplots(2, 2, figsize=(16,9))\n",
        "sns.boxplot(  y=\"petal_width\", x= \"species\", data=iris_df,  orient='v' , ax=axes[0, 0])\n",
        "sns.boxplot(  y=\"petal_length\", x= \"species\", data=iris_df,  orient='v' , ax=axes[0, 1])\n",
        "sns.boxplot(  y=\"sepal_length\", x= \"species\", data=iris_df,  orient='v' , ax=axes[1, 0])\n",
        "sns.boxplot(  y=\"sepal_length\", x= \"species\", data=iris_df,  orient='v' , ax=axes[1, 1])\n",
        "plt.show()"
      ],
      "execution_count": null,
      "outputs": []
    },
    {
      "cell_type": "code",
      "metadata": {
        "id": "qGZdXwG7gkL2"
      },
      "source": [
        "iris_df.corr()"
      ],
      "execution_count": null,
      "outputs": []
    },
    {
      "cell_type": "markdown",
      "metadata": {
        "id": "JbgcAoL8InO6"
      },
      "source": [
        "## Can we infer the Barcelona's street topological pattern from tree data?"
      ]
    },
    {
      "cell_type": "code",
      "metadata": {
        "id": "WbQiyaD5oDiK"
      },
      "source": [
        "bcn_trees = pd.read_csv(\"https://opendata-ajuntament.barcelona.cat/data/dataset/27b3f8a7-e536-4eea-b025-ce094817b2bd/resource/23124fd5-521f-40f8-85b8-efb1e71c2ec8/download\")"
      ],
      "execution_count": null,
      "outputs": []
    },
    {
      "cell_type": "code",
      "metadata": {
        "id": "QVfc4XQrJw15"
      },
      "source": [
        "bcn_trees.shape"
      ],
      "execution_count": null,
      "outputs": []
    },
    {
      "cell_type": "code",
      "metadata": {
        "id": "zsJBEuWFH1z6"
      },
      "source": [
        "bcn_trees.head()"
      ],
      "execution_count": null,
      "outputs": []
    },
    {
      "cell_type": "code",
      "metadata": {
        "id": "UJorcB5WoRR4"
      },
      "source": [
        "bcn_trees.describe()"
      ],
      "execution_count": null,
      "outputs": []
    },
    {
      "cell_type": "code",
      "metadata": {
        "id": "PCN3We9UH3aF"
      },
      "source": [
        "bcn_trees = bcn_trees[[\"latitud\", \"longitud\", \"nom_cientific\", \"tipus_reg\", \"nom_barri\"]]"
      ],
      "execution_count": null,
      "outputs": []
    },
    {
      "cell_type": "code",
      "metadata": {
        "id": "YhT8koMPIhFs"
      },
      "source": [
        "bcn_trees[:20]"
      ],
      "execution_count": null,
      "outputs": []
    },
    {
      "cell_type": "code",
      "metadata": {
        "id": "TCLhPcHlIing"
      },
      "source": [
        "plt.figure(figsize=(12,10))\n",
        "s = sns.scatterplot(\n",
        "    x=bcn_trees['longitud'], \n",
        "    y=bcn_trees['latitud'], \n",
        "    s= .5, \n",
        "    legend=False)"
      ],
      "execution_count": null,
      "outputs": []
    },
    {
      "cell_type": "code",
      "metadata": {
        "id": "t2CClit1jhXq"
      },
      "source": [
        "plt.figure(figsize=(12,10))\n",
        "s = sns.scatterplot(\n",
        "    x=bcn_trees['longitud'], \n",
        "    y=bcn_trees['latitud'], \n",
        "    hue=bcn_trees['nom_cientific'], \n",
        "    s=.5, \n",
        "    legend=False)"
      ],
      "execution_count": null,
      "outputs": []
    },
    {
      "cell_type": "code",
      "metadata": {
        "id": "QcarvtKOy31c"
      },
      "source": [
        "pd.value_counts(bcn_trees['nom_cientific']).iloc[:20].index"
      ],
      "execution_count": null,
      "outputs": []
    },
    {
      "cell_type": "code",
      "metadata": {
        "id": "Bn7YQnXbpnRa"
      },
      "source": [
        "plt.figure(figsize=(12,6))\n",
        "sns.countplot(x=bcn_trees['nom_cientific'],  order=pd.value_counts(bcn_trees['nom_cientific']).iloc[:20].index)\n",
        "plt.xticks(rotation=90)"
      ],
      "execution_count": null,
      "outputs": []
    },
    {
      "cell_type": "code",
      "metadata": {
        "id": "3Mk2K_k-jsXp"
      },
      "source": [
        "plt.figure(figsize=(12,10))\n",
        "s = sns.scatterplot(\n",
        "    x=bcn_trees['longitud'], \n",
        "    y=bcn_trees['latitud'], \n",
        "    hue=bcn_trees['nom_cientific'], \n",
        "    s=4, \n",
        "    legend=False)\n",
        "\n",
        "s.set(xlim=(2.15,2.17))\n",
        "s.set(ylim=(41.38,41.41))\n"
      ],
      "execution_count": null,
      "outputs": []
    },
    {
      "cell_type": "code",
      "metadata": {
        "id": "N6CFqskcP_cE"
      },
      "source": [
        "plt.figure(figsize=(12,10))\n",
        "s = sns.scatterplot(\n",
        "    x=bcn_trees['longitud'], \n",
        "    y=bcn_trees['latitud'], \n",
        "    hue=bcn_trees['tipus_reg'], \n",
        "    s=1)\n",
        "\n",
        "s.set(xlim=(2.11,2.21))\n",
        "s.set(ylim=(41.36,41.44))\n",
        "\n",
        "s.legend(title=\"Irrigation type\")"
      ],
      "execution_count": null,
      "outputs": []
    },
    {
      "cell_type": "code",
      "metadata": {
        "id": "oAtjgNx_4OP0"
      },
      "source": [
        "bcn_trees['tipus_reg'] != \"SENSE INFORMAR\""
      ],
      "execution_count": null,
      "outputs": []
    },
    {
      "cell_type": "code",
      "metadata": {
        "id": "-DxiDzKyJbTC"
      },
      "source": [
        "winfo_irrigation = bcn_trees[bcn_trees['tipus_reg'] != \"SENSE INFORMAR\"]"
      ],
      "execution_count": null,
      "outputs": []
    },
    {
      "cell_type": "code",
      "metadata": {
        "id": "VyowSuPmH88S"
      },
      "source": [
        "plt.figure(figsize=(12,10))\n",
        "s = sns.scatterplot(\n",
        "    x=winfo_irrigation['longitud'], \n",
        "    y=winfo_irrigation['latitud'], \n",
        "    hue=winfo_irrigation['tipus_reg'], \n",
        "    s=1)\n",
        "\n",
        "s.set(xlim=(2.11,2.21))\n",
        "s.set(ylim=(41.36,41.44))\n",
        "\n",
        "s.legend(title=\"Irrigation type\")"
      ],
      "execution_count": null,
      "outputs": []
    },
    {
      "cell_type": "code",
      "metadata": {
        "id": "27q7rnpfSLru"
      },
      "source": [
        "fig, ax = plt.subplots(figsize=(12,10))\n",
        "s = sns.scatterplot(\n",
        "    x=bcn_trees['longitud'], \n",
        "    y=bcn_trees['latitud'], \n",
        "    hue=bcn_trees['nom_barri'], \n",
        "    s=.5, legend=True)\n",
        "\n",
        "s.set(xlim=(2.10,2.22))\n",
        "s.set(ylim=(41.35,41.46))\n",
        "\n",
        "handles, labels = ax.get_legend_handles_labels()\n",
        "ax.legend(\n",
        "    handles=handles,\n",
        "    labels=labels, \n",
        "    bbox_to_anchor=(1.25, 1),\n",
        "    ncol=9,\n",
        "    title=\"Trees of barcelona in each neighborhood\")\n"
      ],
      "execution_count": null,
      "outputs": []
    },
    {
      "cell_type": "code",
      "metadata": {
        "id": "ceEQBXrbV7gP"
      },
      "source": [
        "plt.figure(figsize=(30,8))\n",
        "\n",
        "sns.countplot(\n",
        "    x=bcn_trees['nom_barri'], \n",
        "    order=bcn_trees['nom_barri'].value_counts().index)\n",
        "\n",
        "plt.xticks(rotation=90)"
      ],
      "execution_count": null,
      "outputs": []
    },
    {
      "cell_type": "code",
      "metadata": {
        "id": "0HE87lh7nWhC"
      },
      "source": [
        "upper_diagonal = bcn_trees[(bcn_trees[\"latitud\"] > bcn_trees[\"longitud\"]/3.897 + 40.8425)]\n",
        "plt.figure(figsize=(12,10))\n",
        "s = sns.scatterplot(\n",
        "    x=upper_diagonal['longitud'], \n",
        "    y=upper_diagonal['latitud'], \n",
        "    s= .5, \n",
        "    legend=False)\n",
        "\n",
        "s.set(xlim=(2.10,2.22))\n",
        "s.set(ylim=(41.35,41.46))"
      ],
      "execution_count": null,
      "outputs": []
    },
    {
      "cell_type": "code",
      "metadata": {
        "id": "VfoYj4w2P7QH"
      },
      "source": [
        "lower_diagonal = bcn_trees[(bcn_trees[\"latitud\"] < bcn_trees[\"longitud\"]/3.897 + 40.8425)]\n",
        "plt.figure(figsize=(12,10))\n",
        "s = sns.scatterplot(\n",
        "    x=lower_diagonal['longitud'], \n",
        "    y=lower_diagonal['latitud'], \n",
        "    s= .5, \n",
        "    legend=False)\n",
        "\n",
        "s.set(xlim=(2.10,2.22))\n",
        "s.set(ylim=(41.35,41.46))"
      ],
      "execution_count": null,
      "outputs": []
    },
    {
      "cell_type": "code",
      "metadata": {
        "id": "OYOMbIzLTbDw"
      },
      "source": [
        "plt.figure(figsize=(8,6))\n",
        "sns.barplot(x=[\"upper\", \"lower\"], y =[upper_diagonal.count()[0], lower_diagonal.count()[0]])\n",
        "plt.ylabel(\"Counts\")\n",
        "plt.title(\"Number of trees in both sides of the diagonal street\")"
      ],
      "execution_count": null,
      "outputs": []
    },
    {
      "cell_type": "code",
      "metadata": {
        "id": "m2WMHQ4rTlAa"
      },
      "source": [],
      "execution_count": null,
      "outputs": []
    }
  ]
}