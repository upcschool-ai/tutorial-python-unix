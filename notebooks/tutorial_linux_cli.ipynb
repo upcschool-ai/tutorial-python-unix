{
  "nbformat": 4,
  "nbformat_minor": 0,
  "metadata": {
    "colab": {
      "provenance": [],
      "collapsed_sections": []
    },
    "kernelspec": {
      "name": "python3",
      "display_name": "Python 3"
    },
    "language_info": {
      "name": "python"
    }
  },
  "cells": [
    {
      "cell_type": "markdown",
      "metadata": {
        "id": "B7_zrPtQ_S-J"
      },
      "source": [
        "# **Introduction to Linux command system**"
      ]
    },
    {
      "cell_type": "markdown",
      "metadata": {
        "id": "8UYT1kkieeba"
      },
      "source": [
        "**Remember to make a copy of this Notebook in your Google Drive**"
      ]
    },
    {
      "cell_type": "markdown",
      "metadata": {
        "id": "1SRQyFHx896B"
      },
      "source": [
        "* Intro to Linux Bash\n",
        "* Classic commands\n",
        "* Git and ssh\n"
      ]
    },
    {
      "cell_type": "markdown",
      "metadata": {
        "id": "uk03awmy0VJA"
      },
      "source": [
        "### **Terminal, console, shell, bash ... what the hell?**"
      ]
    },
    {
      "cell_type": "code",
      "metadata": {
        "id": "hGdJT7t-MiBn"
      },
      "source": [
        "!bash"
      ],
      "execution_count": null,
      "outputs": []
    },
    {
      "cell_type": "markdown",
      "metadata": {
        "id": "eVJRHRr-xUrE"
      },
      "source": [
        "Commands 1st part:\n",
        "\n",
        "\n",
        "```\n",
        "man     -> Manual page for any command\n",
        "date    -> Prints current date\n",
        "ls      -> List items in your current directory\n",
        "whoami  -> Print the user name associated with the current user\n",
        "chmod   -> Changes files and folder's permissions\n",
        "pwd     -> Print Working Directory\n",
        "touch   -> Create empty file\n",
        "cat     -> Print file on the standard output\n",
        "echo    -> Display a line of text\n",
        "cd      -> Change Directory\n",
        "mkdir   -> Create folder\n",
        "cp      -> Copy files and directories\n",
        "rm      -> Remove files and directories\n",
        "```\n",
        "\n"
      ]
    },
    {
      "cell_type": "code",
      "metadata": {
        "id": "qZCQhrDRRxXS"
      },
      "source": [
        "!man date"
      ],
      "execution_count": null,
      "outputs": []
    },
    {
      "cell_type": "code",
      "metadata": {
        "id": "2F58CKMFajfl"
      },
      "source": [
        "!date"
      ],
      "execution_count": null,
      "outputs": []
    },
    {
      "cell_type": "code",
      "metadata": {
        "id": "nMT19Br_THaT"
      },
      "source": [
        "!ls"
      ],
      "execution_count": null,
      "outputs": []
    },
    {
      "cell_type": "code",
      "metadata": {
        "id": "m4f2UhFV_qmy"
      },
      "source": [
        "!ls -lah"
      ],
      "execution_count": null,
      "outputs": []
    },
    {
      "cell_type": "code",
      "metadata": {
        "id": "q3jlJ5qzTYXV"
      },
      "source": [
        "!whoami"
      ],
      "execution_count": null,
      "outputs": []
    },
    {
      "cell_type": "markdown",
      "metadata": {
        "id": "Fj_n9kjUUOSm"
      },
      "source": [
        "```\n",
        "r=4\n",
        "w=2\n",
        "x=1\n",
        "```\n",
        "\n"
      ]
    },
    {
      "cell_type": "code",
      "metadata": {
        "id": "eigve7byThpZ"
      },
      "source": [
        "!chmod 644 sample_data"
      ],
      "execution_count": null,
      "outputs": []
    },
    {
      "cell_type": "code",
      "metadata": {
        "id": "baRb7w1PUo1Z"
      },
      "source": [
        "!ls -la"
      ],
      "execution_count": null,
      "outputs": []
    },
    {
      "cell_type": "code",
      "metadata": {
        "id": "6QjXUjOPAiB3"
      },
      "source": [
        "!pwd"
      ],
      "execution_count": null,
      "outputs": []
    },
    {
      "cell_type": "code",
      "metadata": {
        "id": "1O7G4wAxAj38"
      },
      "source": [
        "!touch hello-world.txt"
      ],
      "execution_count": null,
      "outputs": []
    },
    {
      "cell_type": "code",
      "metadata": {
        "id": "WDROahsNAyPI"
      },
      "source": [
        "!cat hello-world.txt"
      ],
      "execution_count": null,
      "outputs": []
    },
    {
      "cell_type": "code",
      "metadata": {
        "id": "NUE3J367A153"
      },
      "source": [
        "!echo \"Hello World!\""
      ],
      "execution_count": null,
      "outputs": []
    },
    {
      "cell_type": "code",
      "metadata": {
        "id": "xXgEMIKUA7G2"
      },
      "source": [
        "!echo \"Hello World!\" >> hello-world.txt"
      ],
      "execution_count": null,
      "outputs": []
    },
    {
      "cell_type": "code",
      "metadata": {
        "id": "KBIlMUPzBEK5"
      },
      "source": [
        "!cat hello-world.txt"
      ],
      "execution_count": null,
      "outputs": []
    },
    {
      "cell_type": "code",
      "metadata": {
        "id": "libQA_v-BF6H"
      },
      "source": [
        "!mkdir my_folder"
      ],
      "execution_count": null,
      "outputs": []
    },
    {
      "cell_type": "code",
      "metadata": {
        "id": "4dwdA4jeBVx6"
      },
      "source": [
        "!ls -la"
      ],
      "execution_count": null,
      "outputs": []
    },
    {
      "cell_type": "code",
      "metadata": {
        "id": "g2UFHzEBBWz2"
      },
      "source": [
        "!touch my_folder/document_within_folder.txt\n",
        "%cd my_folder\n",
        "!pwd;ls -la"
      ],
      "execution_count": null,
      "outputs": []
    },
    {
      "cell_type": "code",
      "metadata": {
        "id": "128XzN5mEosQ"
      },
      "source": [
        "%cd .."
      ],
      "execution_count": null,
      "outputs": []
    },
    {
      "cell_type": "code",
      "metadata": {
        "id": "H3gBzl6JeTTI"
      },
      "source": [
        "!cp hello-world.txt my_folder/new_helloworld.txt"
      ],
      "execution_count": null,
      "outputs": []
    },
    {
      "cell_type": "code",
      "metadata": {
        "id": "FzhzOh2KK32O"
      },
      "source": [
        "!ls -la my_folder"
      ],
      "execution_count": null,
      "outputs": []
    },
    {
      "cell_type": "code",
      "metadata": {
        "id": "AW_zI_kdecHk"
      },
      "source": [
        "!rm -rf my_folder"
      ],
      "execution_count": null,
      "outputs": []
    },
    {
      "cell_type": "code",
      "metadata": {
        "id": "YJW_MlAheepQ"
      },
      "source": [
        "!ls -la"
      ],
      "execution_count": null,
      "outputs": []
    },
    {
      "cell_type": "markdown",
      "metadata": {
        "id": "NgAH39C0LZD5"
      },
      "source": [
        "## **Download PASCAL dataset**\n",
        "\n",
        "Commands:\n",
        "\n",
        "\n",
        "```\n",
        "wget          -> Non-interactive network downloader\n",
        "tar           -> Compress and uncompress data\n",
        "du            -> Print disk usage of files and folders\n",
        "apt           -> Utility for installing, updating and removing packages\n",
        "tree          -> List contents of directories in a tree-like format\n",
        "find          -> Search for files in a directory hierarchy\n",
        "grep          -> Print lines matching a pattern\n",
        "| (pipelines) -> Redirects the output of one command to another\n",
        "```\n",
        "\n"
      ]
    },
    {
      "cell_type": "code",
      "metadata": {
        "id": "o-vbgNLqFRRb"
      },
      "source": [
        "!wget http://host.robots.ox.ac.uk/pascal/VOC/voc2012/VOCtrainval_11-May-2012.tar"
      ],
      "execution_count": null,
      "outputs": []
    },
    {
      "cell_type": "code",
      "metadata": {
        "id": "dHUF_gunOiZo"
      },
      "source": [
        "!tar -xvf VOCtrainval_11-May-2012.tar"
      ],
      "execution_count": null,
      "outputs": []
    },
    {
      "cell_type": "code",
      "metadata": {
        "id": "WMKQ62IVPxak"
      },
      "source": [
        "!du -sh *"
      ],
      "execution_count": null,
      "outputs": []
    },
    {
      "cell_type": "code",
      "metadata": {
        "id": "8157N5L5P2Hv"
      },
      "source": [
        "!du -sh VOCdevkit/VOC2012/*"
      ],
      "execution_count": null,
      "outputs": []
    },
    {
      "cell_type": "code",
      "metadata": {
        "id": "E_0urNtWP_wj"
      },
      "source": [
        "import os           # Alternative: import glob\n",
        "base_path = './VOCdevkit/VOC2012/'\n",
        "for folder in os.listdir(base_path):\n",
        "    print(f\"Folder {folder} contains {len(os.listdir(os.path.join(base_path, folder)))} elements.\")"
      ],
      "execution_count": null,
      "outputs": []
    },
    {
      "cell_type": "code",
      "metadata": {
        "id": "FKcosD8GSE7Y"
      },
      "source": [
        "!apt install tree"
      ],
      "execution_count": null,
      "outputs": []
    },
    {
      "cell_type": "code",
      "metadata": {
        "id": "ReQigq1U1xOC"
      },
      "source": [
        "!man tree"
      ],
      "execution_count": null,
      "outputs": []
    },
    {
      "cell_type": "code",
      "metadata": {
        "id": "8hLQ0CIGRXjQ"
      },
      "source": [
        "!tree -L 2"
      ],
      "execution_count": null,
      "outputs": []
    },
    {
      "cell_type": "code",
      "metadata": {
        "id": "Cbm_ufIfSOTD"
      },
      "source": [
        "!tree VOCdevkit -L 2"
      ],
      "execution_count": null,
      "outputs": []
    },
    {
      "cell_type": "code",
      "metadata": {
        "id": "SyKZdbfWQcYy"
      },
      "source": [
        "!find VOCdevkit/VOC2012/* -name \"2007_000027.*\""
      ],
      "execution_count": null,
      "outputs": []
    },
    {
      "cell_type": "code",
      "metadata": {
        "id": "3VPy6qG1RooI"
      },
      "source": [
        "!cat VOCdevkit/VOC2012/Annotations/2007_000027.xml"
      ],
      "execution_count": null,
      "outputs": []
    },
    {
      "cell_type": "code",
      "metadata": {
        "id": "9P8yUBvvNWiT"
      },
      "source": [
        "!cat VOCdevkit/VOC2012/Annotations/2007_000027.xml | grep name"
      ],
      "execution_count": null,
      "outputs": []
    },
    {
      "cell_type": "markdown",
      "metadata": {
        "id": "P2AcMQ6bO7mu"
      },
      "source": [
        "## **Git and SSH commands**\n"
      ]
    },
    {
      "cell_type": "markdown",
      "metadata": {
        "id": "tixammh0UMMZ"
      },
      "source": [
        "**Git** is a type of version control system (VCS) that makes it easier to track changes to files.\n",
        "\n",
        "```\n",
        "git clone git@github.com:username/repo_name.git .\n",
        "git clone https://github.com/username/repo_name.git .\n",
        "\n",
        "git add .\n",
        "git commit -m \"your message\"\n",
        "git remote add origin git@github.com:username/repo_name.git\n",
        "git push -u origin master\n",
        "\n",
        "git pull\n",
        "```\n",
        "**SSH**, or Secure Shell, is a remote administration protocol that allows users to control and modify their remote servers over the Internet.\n",
        "\n",
        "-> Generate private and public SSH keys ([Github tutorial](https://docs.github.com/en/github/authenticating-to-github/connecting-to-github-with-ssh/generating-a-new-ssh-key-and-adding-it-to-the-ssh-agent\n",
        "))\n",
        "\n",
        "```\n",
        "ssh-keygen -t rsa -b 4096 -C \"yourmail@whatever.com\"\n",
        "eval \"$(ssh-agent -s)\"\n",
        "ssh-add ~/.ssh/id_rsa\n",
        "Copy ~/.ssh/id_rsa.pub to github settings\n",
        "```\n",
        "\n",
        "\n",
        "\n",
        "```\n",
        "ssh {user}@{host}\n",
        "ssh user@172.4.14.102\n",
        "ssh user@upc-servers.upc.edu\n",
        "\n",
        "ssh -p2225 user@host                    -> Change port (default 22)\n",
        "ssh -L 6006:localhost:6006 user@host    -> Port forwarding\n",
        "ssh -X user@host                        -> Enables X11 forwarding (GUI Interfaces)\n",
        "```\n",
        "\n",
        "\n"
      ]
    },
    {
      "cell_type": "markdown",
      "metadata": {
        "id": "Hyz6O5qaL8j1"
      },
      "source": [
        " **Windows commands**"
      ]
    },
    {
      "cell_type": "markdown",
      "metadata": {
        "id": "KZ9kGnlSLVXD"
      },
      "source": [
        "|    CMD Command    | UNIX Command |   PowerShell Command  | PowerShell Alias |\n",
        "|-------------------|--------------|-----------------------|------------------|\n",
        "| dir               | ls           | Get-ChildItem         | gci              |\n",
        "| cls               | clear        | Clear-Host (function) | cls              |\n",
        "| del, erase, rmdir | rm           | Remove-Item           | ri               |\n",
        "| copy              | cp           | Copy-Item             | ci               |\n",
        "| move              | mv           | Move-Item             | mi               |\n",
        "| rename            | mv           | Rename-Item           | rni              |\n",
        "| type              | cat          | Get-Content           | gc               |\n",
        "| cd                | cd           | Set-Location          | sl               |\n",
        "| md                | mkdir        | New-Item              | ni               |\n",
        "| pushd             | pushd        | Push-Location         | pushd            |\n",
        "| popd              | popd         | Pop-Location          | popd             |\n",
        "\n",
        "Source: https://gist.github.com/jonlabelle/e8ba94cd29b8f63fd7dd3c4f95c1d210\n",
        "\n"
      ]
    }
  ]
}